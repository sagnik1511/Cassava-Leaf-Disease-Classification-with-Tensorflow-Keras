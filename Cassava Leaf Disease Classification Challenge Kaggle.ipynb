{
 "cells": [
  {
   "cell_type": "markdown",
   "metadata": {},
   "source": [
    "# Cassava Leaf Disease Classification Challenge with Tensorflow-Keras :\n",
    "---\n",
    "\n",
    "This notebook holds complete interpretation of Cassva Leaf Disease Classification Challenge using Keras Tensorflow.\n",
    "\n",
    "The notebook has been run on kaggle kernels, so if you are running this in your system and have already downloaded the file then do some basic preprocessing and you're good to go. **:)**"
   ]
  },
  {
   "cell_type": "markdown",
   "metadata": {},
   "source": [
    "Data folder has a specific tree structure -\n",
    "\n",
    "\n",
    "         cassava-leaf-disease-classification/\n",
    "                                     -train_images/\n",
    "                                            -image1.jpg\n",
    "                                            -image2.jpg\n",
    "                                            .\n",
    "                                            .\n",
    "                                     -test_images/\n",
    "                                            -image1.jpg\n",
    "                                     -train.csv\n",
    "                                     -sample_submission.csv"
   ]
  },
  {
   "cell_type": "code",
   "execution_count": 1,
   "id": "three-polish",
   "metadata": {
    "_cell_guid": "b1076dfc-b9ad-4769-8c92-a6c4dae69d19",
    "_uuid": "8f2839f25d086af736a60e9eeb907d3b93b6e0e5",
    "execution": {
     "iopub.execute_input": "2021-07-04T09:14:31.048256Z",
     "iopub.status.busy": "2021-07-04T09:14:31.047077Z",
     "iopub.status.idle": "2021-07-04T09:14:31.049845Z",
     "shell.execute_reply": "2021-07-04T09:14:31.049340Z",
     "shell.execute_reply.started": "2021-07-04T08:12:34.229891Z"
    },
    "papermill": {
     "duration": 0.033303,
     "end_time": "2021-07-04T09:14:31.049989",
     "exception": false,
     "start_time": "2021-07-04T09:14:31.016686",
     "status": "completed"
    },
    "tags": []
   },
   "outputs": [],
   "source": [
    "# Directories\n",
    "train_root = '../input/cassava-leaf-disease-classification/train_images'\n",
    "test_root = '../input/cassava-leaf-disease-classification/test_images'"
   ]
  },
  {
   "cell_type": "code",
   "execution_count": 2,
   "id": "ready-ability",
   "metadata": {
    "execution": {
     "iopub.execute_input": "2021-07-04T09:14:31.094540Z",
     "iopub.status.busy": "2021-07-04T09:14:31.093334Z",
     "iopub.status.idle": "2021-07-04T09:14:31.096054Z",
     "shell.execute_reply": "2021-07-04T09:14:31.095666Z",
     "shell.execute_reply.started": "2021-07-04T08:12:34.239841Z"
    },
    "papermill": {
     "duration": 0.025726,
     "end_time": "2021-07-04T09:14:31.096152",
     "exception": false,
     "start_time": "2021-07-04T09:14:31.070426",
     "status": "completed"
    },
    "tags": []
   },
   "outputs": [],
   "source": [
    "# Importaed basic data directory manipulation libraries\n",
    "import os\n",
    "from glob import glob"
   ]
  },
  {
   "cell_type": "code",
   "execution_count": 3,
   "id": "typical-somewhere",
   "metadata": {
    "execution": {
     "iopub.execute_input": "2021-07-04T09:14:31.139149Z",
     "iopub.status.busy": "2021-07-04T09:14:31.138669Z",
     "iopub.status.idle": "2021-07-04T09:14:31.510824Z",
     "shell.execute_reply": "2021-07-04T09:14:31.510353Z",
     "shell.execute_reply.started": "2021-07-04T08:12:34.277289Z"
    },
    "papermill": {
     "duration": 0.394962,
     "end_time": "2021-07-04T09:14:31.511008",
     "exception": false,
     "start_time": "2021-07-04T09:14:31.116046",
     "status": "completed"
    },
    "tags": []
   },
   "outputs": [
    {
     "name": "stdout",
     "output_type": "stream",
     "text": [
      "Image in train data : 21397\n",
      "Image in test data : 1\n"
     ]
    }
   ],
   "source": [
    "# Number of Image in Each folder\n",
    "print(f'Image in train data : {len(os.listdir(train_root))}')\n",
    "print(f'Image in test data : {len(os.listdir(test_root))}')"
   ]
  },
  {
   "cell_type": "code",
   "execution_count": 4,
   "id": "returning-command",
   "metadata": {
    "execution": {
     "iopub.execute_input": "2021-07-04T09:14:31.583664Z",
     "iopub.status.busy": "2021-07-04T09:14:31.582909Z",
     "iopub.status.idle": "2021-07-04T09:14:31.585758Z",
     "shell.execute_reply": "2021-07-04T09:14:31.585266Z",
     "shell.execute_reply.started": "2021-07-04T08:12:35.17521Z"
    },
    "papermill": {
     "duration": 0.037895,
     "end_time": "2021-07-04T09:14:31.585874",
     "exception": false,
     "start_time": "2021-07-04T09:14:31.547979",
     "status": "completed"
    },
    "tags": []
   },
   "outputs": [],
   "source": [
    "# Imported Basic Data Manipulation Libraries\n",
    "import numpy as np\n",
    "import pandas as pd"
   ]
  },
  {
   "cell_type": "code",
   "execution_count": 5,
   "id": "former-fence",
   "metadata": {
    "execution": {
     "iopub.execute_input": "2021-07-04T09:14:31.640295Z",
     "iopub.status.busy": "2021-07-04T09:14:31.639495Z",
     "iopub.status.idle": "2021-07-04T09:14:31.696836Z",
     "shell.execute_reply": "2021-07-04T09:14:31.697436Z",
     "shell.execute_reply.started": "2021-07-04T08:12:35.182229Z"
    },
    "papermill": {
     "duration": 0.090931,
     "end_time": "2021-07-04T09:14:31.697643",
     "exception": false,
     "start_time": "2021-07-04T09:14:31.606712",
     "status": "completed"
    },
    "tags": []
   },
   "outputs": [
    {
     "data": {
      "text/html": [
       "<div>\n",
       "<style scoped>\n",
       "    .dataframe tbody tr th:only-of-type {\n",
       "        vertical-align: middle;\n",
       "    }\n",
       "\n",
       "    .dataframe tbody tr th {\n",
       "        vertical-align: top;\n",
       "    }\n",
       "\n",
       "    .dataframe thead th {\n",
       "        text-align: right;\n",
       "    }\n",
       "</style>\n",
       "<table border=\"1\" class=\"dataframe\">\n",
       "  <thead>\n",
       "    <tr style=\"text-align: right;\">\n",
       "      <th></th>\n",
       "      <th>image_id</th>\n",
       "      <th>label</th>\n",
       "    </tr>\n",
       "  </thead>\n",
       "  <tbody>\n",
       "    <tr>\n",
       "      <th>0</th>\n",
       "      <td>1000015157.jpg</td>\n",
       "      <td>0</td>\n",
       "    </tr>\n",
       "    <tr>\n",
       "      <th>1</th>\n",
       "      <td>1000201771.jpg</td>\n",
       "      <td>3</td>\n",
       "    </tr>\n",
       "    <tr>\n",
       "      <th>2</th>\n",
       "      <td>100042118.jpg</td>\n",
       "      <td>1</td>\n",
       "    </tr>\n",
       "    <tr>\n",
       "      <th>3</th>\n",
       "      <td>1000723321.jpg</td>\n",
       "      <td>1</td>\n",
       "    </tr>\n",
       "    <tr>\n",
       "      <th>4</th>\n",
       "      <td>1000812911.jpg</td>\n",
       "      <td>3</td>\n",
       "    </tr>\n",
       "  </tbody>\n",
       "</table>\n",
       "</div>"
      ],
      "text/plain": [
       "         image_id  label\n",
       "0  1000015157.jpg      0\n",
       "1  1000201771.jpg      3\n",
       "2   100042118.jpg      1\n",
       "3  1000723321.jpg      1\n",
       "4  1000812911.jpg      3"
      ]
     },
     "execution_count": 5,
     "metadata": {},
     "output_type": "execute_result"
    }
   ],
   "source": [
    "# Loading Train dataset\n",
    "train_df = pd.read_csv('../input/cassava-leaf-disease-classification/train.csv')\n",
    "train_df.head()"
   ]
  },
  {
   "cell_type": "markdown",
   "metadata": {},
   "source": [
    "Let us see and set the actual classes in the dataset , which will be used in data generating."
   ]
  },
  {
   "cell_type": "code",
   "execution_count": 6,
   "id": "mediterranean-penalty",
   "metadata": {
    "execution": {
     "iopub.execute_input": "2021-07-04T09:14:31.759861Z",
     "iopub.status.busy": "2021-07-04T09:14:31.759352Z",
     "iopub.status.idle": "2021-07-04T09:14:31.939210Z",
     "shell.execute_reply": "2021-07-04T09:14:31.939814Z",
     "shell.execute_reply.started": "2021-07-04T08:12:35.227924Z"
    },
    "papermill": {
     "duration": 0.209733,
     "end_time": "2021-07-04T09:14:31.939958",
     "exception": false,
     "start_time": "2021-07-04T09:14:31.730225",
     "status": "completed"
    },
    "tags": []
   },
   "outputs": [
    {
     "data": {
      "text/html": [
       "<div>\n",
       "<style scoped>\n",
       "    .dataframe tbody tr th:only-of-type {\n",
       "        vertical-align: middle;\n",
       "    }\n",
       "\n",
       "    .dataframe tbody tr th {\n",
       "        vertical-align: top;\n",
       "    }\n",
       "\n",
       "    .dataframe thead th {\n",
       "        text-align: right;\n",
       "    }\n",
       "</style>\n",
       "<table border=\"1\" class=\"dataframe\">\n",
       "  <thead>\n",
       "    <tr style=\"text-align: right;\">\n",
       "      <th></th>\n",
       "      <th>0</th>\n",
       "    </tr>\n",
       "  </thead>\n",
       "  <tbody>\n",
       "    <tr>\n",
       "      <th>0</th>\n",
       "      <td>Cassava Bacterial Blight (CBB)</td>\n",
       "    </tr>\n",
       "    <tr>\n",
       "      <th>1</th>\n",
       "      <td>Cassava Brown Streak Disease (CBSD)</td>\n",
       "    </tr>\n",
       "    <tr>\n",
       "      <th>2</th>\n",
       "      <td>Cassava Green Mottle (CGM)</td>\n",
       "    </tr>\n",
       "    <tr>\n",
       "      <th>3</th>\n",
       "      <td>Cassava Mosaic Disease (CMD)</td>\n",
       "    </tr>\n",
       "    <tr>\n",
       "      <th>4</th>\n",
       "      <td>Healthy</td>\n",
       "    </tr>\n",
       "  </tbody>\n",
       "</table>\n",
       "</div>"
      ],
      "text/plain": [
       "                                     0\n",
       "0       Cassava Bacterial Blight (CBB)\n",
       "1  Cassava Brown Streak Disease (CBSD)\n",
       "2           Cassava Green Mottle (CGM)\n",
       "3         Cassava Mosaic Disease (CMD)\n",
       "4                              Healthy"
      ]
     },
     "execution_count": 6,
     "metadata": {},
     "output_type": "execute_result"
    }
   ],
   "source": [
    "# Read classes from json file\n",
    "import json\n",
    "json_file_path = '../input/cassava-leaf-disease-classification/label_num_to_disease_map.json'\n",
    "class_df = pd.read_json(json_file_path ,lines=True).T\n",
    "class_df"
   ]
  },
  {
   "cell_type": "code",
   "execution_count": 7,
   "id": "korean-crossing",
   "metadata": {
    "execution": {
     "iopub.execute_input": "2021-07-04T09:14:31.988934Z",
     "iopub.status.busy": "2021-07-04T09:14:31.988240Z",
     "iopub.status.idle": "2021-07-04T09:14:31.991257Z",
     "shell.execute_reply": "2021-07-04T09:14:31.991707Z",
     "shell.execute_reply.started": "2021-07-04T08:12:35.466576Z"
    },
    "papermill": {
     "duration": 0.030564,
     "end_time": "2021-07-04T09:14:31.991828",
     "exception": false,
     "start_time": "2021-07-04T09:14:31.961264",
     "status": "completed"
    },
    "tags": []
   },
   "outputs": [
    {
     "data": {
      "text/html": [
       "<div>\n",
       "<style scoped>\n",
       "    .dataframe tbody tr th:only-of-type {\n",
       "        vertical-align: middle;\n",
       "    }\n",
       "\n",
       "    .dataframe tbody tr th {\n",
       "        vertical-align: top;\n",
       "    }\n",
       "\n",
       "    .dataframe thead th {\n",
       "        text-align: right;\n",
       "    }\n",
       "</style>\n",
       "<table border=\"1\" class=\"dataframe\">\n",
       "  <thead>\n",
       "    <tr style=\"text-align: right;\">\n",
       "      <th></th>\n",
       "      <th>labels</th>\n",
       "    </tr>\n",
       "  </thead>\n",
       "  <tbody>\n",
       "    <tr>\n",
       "      <th>0</th>\n",
       "      <td>Cassava Bacterial Blight (CBB)</td>\n",
       "    </tr>\n",
       "    <tr>\n",
       "      <th>1</th>\n",
       "      <td>Cassava Brown Streak Disease (CBSD)</td>\n",
       "    </tr>\n",
       "    <tr>\n",
       "      <th>2</th>\n",
       "      <td>Cassava Green Mottle (CGM)</td>\n",
       "    </tr>\n",
       "    <tr>\n",
       "      <th>3</th>\n",
       "      <td>Cassava Mosaic Disease (CMD)</td>\n",
       "    </tr>\n",
       "    <tr>\n",
       "      <th>4</th>\n",
       "      <td>Healthy</td>\n",
       "    </tr>\n",
       "  </tbody>\n",
       "</table>\n",
       "</div>"
      ],
      "text/plain": [
       "                                labels\n",
       "0       Cassava Bacterial Blight (CBB)\n",
       "1  Cassava Brown Streak Disease (CBSD)\n",
       "2           Cassava Green Mottle (CGM)\n",
       "3         Cassava Mosaic Disease (CMD)\n",
       "4                              Healthy"
      ]
     },
     "execution_count": 7,
     "metadata": {},
     "output_type": "execute_result"
    }
   ],
   "source": [
    "# Classes\n",
    "class_df.columns = ['labels']\n",
    "class_df"
   ]
  },
  {
   "cell_type": "code",
   "execution_count": 8,
   "id": "overall-fifteen",
   "metadata": {
    "execution": {
     "iopub.execute_input": "2021-07-04T09:14:32.038804Z",
     "iopub.status.busy": "2021-07-04T09:14:32.038045Z",
     "iopub.status.idle": "2021-07-04T09:14:32.041600Z",
     "shell.execute_reply": "2021-07-04T09:14:32.041144Z",
     "shell.execute_reply.started": "2021-07-04T08:12:35.47678Z"
    },
    "papermill": {
     "duration": 0.028499,
     "end_time": "2021-07-04T09:14:32.041705",
     "exception": false,
     "start_time": "2021-07-04T09:14:32.013206",
     "status": "completed"
    },
    "tags": []
   },
   "outputs": [
    {
     "data": {
      "text/plain": [
       "array(['Cassava Bacterial Blight (CBB)',\n",
       "       'Cassava Brown Streak Disease (CBSD)',\n",
       "       'Cassava Green Mottle (CGM)', 'Cassava Mosaic Disease (CMD)',\n",
       "       'Healthy'], dtype=object)"
      ]
     },
     "execution_count": 8,
     "metadata": {},
     "output_type": "execute_result"
    }
   ],
   "source": [
    "classes = np.array(class_df['labels'])\n",
    "classes"
   ]
  },
  {
   "cell_type": "code",
   "execution_count": 9,
   "id": "mechanical-campbell",
   "metadata": {
    "execution": {
     "iopub.execute_input": "2021-07-04T09:14:32.096015Z",
     "iopub.status.busy": "2021-07-04T09:14:32.095333Z",
     "iopub.status.idle": "2021-07-04T09:14:32.105112Z",
     "shell.execute_reply": "2021-07-04T09:14:32.104718Z",
     "shell.execute_reply.started": "2021-07-04T08:12:35.485947Z"
    },
    "papermill": {
     "duration": 0.041956,
     "end_time": "2021-07-04T09:14:32.105229",
     "exception": false,
     "start_time": "2021-07-04T09:14:32.063273",
     "status": "completed"
    },
    "tags": []
   },
   "outputs": [
    {
     "data": {
      "text/html": [
       "<div>\n",
       "<style scoped>\n",
       "    .dataframe tbody tr th:only-of-type {\n",
       "        vertical-align: middle;\n",
       "    }\n",
       "\n",
       "    .dataframe tbody tr th {\n",
       "        vertical-align: top;\n",
       "    }\n",
       "\n",
       "    .dataframe thead th {\n",
       "        text-align: right;\n",
       "    }\n",
       "</style>\n",
       "<table border=\"1\" class=\"dataframe\">\n",
       "  <thead>\n",
       "    <tr style=\"text-align: right;\">\n",
       "      <th></th>\n",
       "      <th>image_id</th>\n",
       "      <th>label</th>\n",
       "      <th>class</th>\n",
       "    </tr>\n",
       "  </thead>\n",
       "  <tbody>\n",
       "    <tr>\n",
       "      <th>0</th>\n",
       "      <td>1000015157.jpg</td>\n",
       "      <td>0</td>\n",
       "      <td>Cassava Bacterial Blight (CBB)</td>\n",
       "    </tr>\n",
       "    <tr>\n",
       "      <th>1</th>\n",
       "      <td>1000201771.jpg</td>\n",
       "      <td>3</td>\n",
       "      <td>Cassava Mosaic Disease (CMD)</td>\n",
       "    </tr>\n",
       "    <tr>\n",
       "      <th>2</th>\n",
       "      <td>100042118.jpg</td>\n",
       "      <td>1</td>\n",
       "      <td>Cassava Brown Streak Disease (CBSD)</td>\n",
       "    </tr>\n",
       "    <tr>\n",
       "      <th>3</th>\n",
       "      <td>1000723321.jpg</td>\n",
       "      <td>1</td>\n",
       "      <td>Cassava Brown Streak Disease (CBSD)</td>\n",
       "    </tr>\n",
       "    <tr>\n",
       "      <th>4</th>\n",
       "      <td>1000812911.jpg</td>\n",
       "      <td>3</td>\n",
       "      <td>Cassava Mosaic Disease (CMD)</td>\n",
       "    </tr>\n",
       "  </tbody>\n",
       "</table>\n",
       "</div>"
      ],
      "text/plain": [
       "         image_id  label                                class\n",
       "0  1000015157.jpg      0       Cassava Bacterial Blight (CBB)\n",
       "1  1000201771.jpg      3         Cassava Mosaic Disease (CMD)\n",
       "2   100042118.jpg      1  Cassava Brown Streak Disease (CBSD)\n",
       "3  1000723321.jpg      1  Cassava Brown Streak Disease (CBSD)\n",
       "4  1000812911.jpg      3         Cassava Mosaic Disease (CMD)"
      ]
     },
     "execution_count": 9,
     "metadata": {},
     "output_type": "execute_result"
    }
   ],
   "source": [
    "# Classes added to the train datframe\n",
    "class_col = []\n",
    "\n",
    "for i in train_df['label']:\n",
    "    class_col.append(classes[i])\n",
    "    \n",
    "train_df['class'] = class_col\n",
    "\n",
    "train_df.head()"
   ]
  },
  {
   "cell_type": "markdown",
   "metadata": {},
   "source": [
    "The train data folder has no specific subdirectory for setting the classes of every single image. So, we are going to use the labels on the dataframe to generate the tensor dataset which will be trained on our Neural Network Model."
   ]
  },
  {
   "cell_type": "code",
   "execution_count": 10,
   "id": "intensive-adelaide",
   "metadata": {
    "execution": {
     "iopub.execute_input": "2021-07-04T09:14:32.154281Z",
     "iopub.status.busy": "2021-07-04T09:14:32.153632Z",
     "iopub.status.idle": "2021-07-04T09:14:37.019540Z",
     "shell.execute_reply": "2021-07-04T09:14:37.018996Z",
     "shell.execute_reply.started": "2021-07-04T08:12:35.508141Z"
    },
    "papermill": {
     "duration": 4.892149,
     "end_time": "2021-07-04T09:14:37.019666",
     "exception": false,
     "start_time": "2021-07-04T09:14:32.127517",
     "status": "completed"
    },
    "tags": []
   },
   "outputs": [],
   "source": [
    "# Imported Neural Network and dataset making libraries\n",
    "from tensorflow.keras.layers import Dense, Dropout\n",
    "from tensorflow.keras.applications import EfficientNetB7\n",
    "from tensorflow.keras.preprocessing.image import ImageDataGenerator\n",
    "from tensorflow import keras\n",
    "from tensorflow.keras import layers"
   ]
  },
  {
   "cell_type": "markdown",
   "metadata": {},
   "source": [
    "Now we have imported all libraries to work.\n",
    "\n",
    "As we have some images from different angles , we have to augment the image so that we can have a less biased dataset.\n",
    "\n",
    "In this augment process the images should also be normalized to the values between 0 and 1 . This would help the model dodge unwanted maximas."
   ]
  },
  {
   "cell_type": "code",
   "execution_count": 11,
   "id": "mighty-occasions",
   "metadata": {
    "execution": {
     "iopub.execute_input": "2021-07-04T09:14:37.069951Z",
     "iopub.status.busy": "2021-07-04T09:14:37.069150Z",
     "iopub.status.idle": "2021-07-04T09:14:37.071708Z",
     "shell.execute_reply": "2021-07-04T09:14:37.071215Z",
     "shell.execute_reply.started": "2021-07-04T08:12:40.450681Z"
    },
    "papermill": {
     "duration": 0.028457,
     "end_time": "2021-07-04T09:14:37.071829",
     "exception": false,
     "start_time": "2021-07-04T09:14:37.043372",
     "status": "completed"
    },
    "tags": []
   },
   "outputs": [],
   "source": [
    "augment = ImageDataGenerator(\n",
    "             # validation split is specified which is 85-15 train-val split\n",
    "            validation_split = 0.15,\n",
    "            # augmenting vertical and horizontal flips\n",
    "            vertical_flip = True,\n",
    "            horizontal_flip = True,\n",
    "            # rescaling the image data \n",
    "            rescale = 1./255\n",
    ")"
   ]
  },
  {
   "cell_type": "markdown",
   "metadata": {},
   "source": [
    "Now the data augment has been set , select the hyperparameters and form the datsets."
   ]
  },
  {
   "cell_type": "code",
   "execution_count": 12,
   "id": "executive-olympus",
   "metadata": {
    "execution": {
     "iopub.execute_input": "2021-07-04T09:14:37.122843Z",
     "iopub.status.busy": "2021-07-04T09:14:37.122005Z",
     "iopub.status.idle": "2021-07-04T09:14:37.124555Z",
     "shell.execute_reply": "2021-07-04T09:14:37.124956Z",
     "shell.execute_reply.started": "2021-07-04T08:12:40.457307Z"
    },
    "papermill": {
     "duration": 0.030664,
     "end_time": "2021-07-04T09:14:37.125068",
     "exception": false,
     "start_time": "2021-07-04T09:14:37.094404",
     "status": "completed"
    },
    "tags": []
   },
   "outputs": [],
   "source": [
    "# Hyperparameters\n",
    "SEED = 42\n",
    "BATCH_SIZE = 50\n",
    "HEIGHT = 256\n",
    "WIDTH = 256\n",
    "general_path = '../input/cassava-leaf-disease-classification/'"
   ]
  },
  {
   "cell_type": "code",
   "execution_count": 13,
   "id": "present-butler",
   "metadata": {
    "execution": {
     "iopub.execute_input": "2021-07-04T09:14:37.175925Z",
     "iopub.status.busy": "2021-07-04T09:14:37.175123Z",
     "iopub.status.idle": "2021-07-04T09:14:58.923774Z",
     "shell.execute_reply": "2021-07-04T09:14:58.922985Z",
     "shell.execute_reply.started": "2021-07-04T08:12:40.46714Z"
    },
    "papermill": {
     "duration": 21.776237,
     "end_time": "2021-07-04T09:14:58.923901",
     "exception": false,
     "start_time": "2021-07-04T09:14:37.147664",
     "status": "completed"
    },
    "tags": []
   },
   "outputs": [
    {
     "name": "stdout",
     "output_type": "stream",
     "text": [
      "Found 18188 validated image filenames belonging to 5 classes.\n",
      "Found 3209 validated image filenames belonging to 5 classes.\n"
     ]
    }
   ],
   "source": [
    "# Dataset Generator\n",
    "train_data = augment.flow_from_dataframe(\n",
    "    dataframe=train_df,\n",
    "    directory=general_path + 'train_images',\n",
    "    x_col='image_id',\n",
    "    y_col='class',\n",
    "    target_size = (HEIGHT , WIDTH),\n",
    "    batch_size = BATCH_SIZE,\n",
    "    subset='training',\n",
    "    seed=42\n",
    ")\n",
    "\n",
    "val_data = augment.flow_from_dataframe(\n",
    "    dataframe=train_df,\n",
    "    directory=general_path + 'train_images',\n",
    "    x_col='image_id',\n",
    "    y_col='class',\n",
    "    target_size = (HEIGHT , WIDTH),\n",
    "    batch_size = BATCH_SIZE,\n",
    "    subset='validation',\n",
    "    seed=42\n",
    ")"
   ]
  },
  {
   "cell_type": "markdown",
   "metadata": {},
   "source": [
    "We can see the data has 5 classes. Let's see what are those and validate if the classes are set accordingly."
   ]
  },
  {
   "cell_type": "code",
   "execution_count": 14,
   "id": "editorial-wonder",
   "metadata": {
    "execution": {
     "iopub.execute_input": "2021-07-04T09:14:58.974400Z",
     "iopub.status.busy": "2021-07-04T09:14:58.973615Z",
     "iopub.status.idle": "2021-07-04T09:14:58.977191Z",
     "shell.execute_reply": "2021-07-04T09:14:58.976737Z",
     "shell.execute_reply.started": "2021-07-04T08:13:28.043111Z"
    },
    "papermill": {
     "duration": 0.030545,
     "end_time": "2021-07-04T09:14:58.977310",
     "exception": false,
     "start_time": "2021-07-04T09:14:58.946765",
     "status": "completed"
    },
    "tags": []
   },
   "outputs": [
    {
     "data": {
      "text/plain": [
       "{'Cassava Bacterial Blight (CBB)': 0,\n",
       " 'Cassava Brown Streak Disease (CBSD)': 1,\n",
       " 'Cassava Green Mottle (CGM)': 2,\n",
       " 'Cassava Mosaic Disease (CMD)': 3,\n",
       " 'Healthy': 4}"
      ]
     },
     "execution_count": 14,
     "metadata": {},
     "output_type": "execute_result"
    }
   ],
   "source": [
    "train_data.class_indices"
   ]
  },
  {
   "cell_type": "markdown",
   "metadata": {},
   "source": [
    "The labels are perfect. The datageneration process has been completed . Now we are going build the model and train on the dataset."
   ]
  },
  {
   "cell_type": "markdown",
   "metadata": {},
   "source": [
    " In this problem I have chosen the model EfficientNetB7 as it gives the best accuracy on [ImageNet](https://www.image-net.org/) dataset.\n",
    " Now we are using the pretrained weights and customize the bottom layers , so that we might train our required data on the model.\n",
    " \n",
    "The input layer is also getting tampered as per our use."
   ]
  },
  {
   "cell_type": "code",
   "execution_count": 15,
   "id": "shaped-horse",
   "metadata": {
    "_kg_hide-input": false,
    "_kg_hide-output": true,
    "execution": {
     "iopub.execute_input": "2021-07-04T09:14:59.027383Z",
     "iopub.status.busy": "2021-07-04T09:14:59.026818Z",
     "iopub.status.idle": "2021-07-04T09:15:08.119863Z",
     "shell.execute_reply": "2021-07-04T09:15:08.119371Z",
     "shell.execute_reply.started": "2021-07-04T08:13:33.228367Z"
    },
    "papermill": {
     "duration": 9.119515,
     "end_time": "2021-07-04T09:15:08.119992",
     "exception": false,
     "start_time": "2021-07-04T09:14:59.000477",
     "status": "completed"
    },
    "tags": []
   },
   "outputs": [
   ],
   "source": [
    "model = EfficientNetB7(include_top = False , input_tensor = layers.Input(shape=(256,256,3)))\n",
    "model.summary()"
   ]
  },
  {
   "cell_type": "markdown",
   "metadata": {},
   "source": [
    "Now setting all the model layers as non trainable layers. As we want to use the pretrained weights rom the model, so we are only going to update the last layer's weights.\n",
    "\n",
    "Now, this updated model will be trained over our dataset."
   ]
  },
  {
   "cell_type": "code",
   "execution_count": 16,
   "id": "frank-mortgage",
   "metadata": {
    "execution": {
     "iopub.execute_input": "2021-07-04T09:15:08.216302Z",
     "iopub.status.busy": "2021-07-04T09:15:08.215506Z",
     "iopub.status.idle": "2021-07-04T09:15:08.659869Z",
     "shell.execute_reply": "2021-07-04T09:15:08.659203Z",
     "shell.execute_reply.started": "2021-07-04T08:13:59.718229Z"
    },
    "papermill": {
     "duration": 0.505382,
     "end_time": "2021-07-04T09:15:08.660047",
     "exception": false,
     "start_time": "2021-07-04T09:15:08.154665",
     "status": "completed"
    },
    "tags": []
   },
   "outputs": [
   ],
   "source": [
    "for layer in model.layers:\n",
    "  layer.trainable = False\n",
    "\n",
    "\n",
    "# Now adding the last layers which are going to get trained \n",
    "\n",
    "\n",
    "effb7_output = model.output\n",
    "fl_layer = layers.Flatten()(effb7_output)\n",
    "d1_layer = layers.Dense(4096,activation='relu')(fl_layer)\n",
    "d2_layer = layers.Dense(4096,activation='relu')(d1_layer)\n",
    "output = layers.Dense(5,activation='softmax')(d2_layer)\n",
    "\n",
    "\n",
    "# Creating the custom model from VGG19 pretrained Network\n",
    "clf = keras.models.Model(inputs = model.input , outputs = output)\n",
    "clf.summary()"
   ]
  },
  {
   "cell_type": "markdown",
   "metadata": {},
   "source": [
    "Let us validate layers trainablity."
   ]
  },
  {
   "cell_type": "code",
   "execution_count": 17,
   "id": "attractive-strike",
   "metadata": {
    "execution": {
     "iopub.execute_input": "2021-07-04T09:15:08.744252Z",
     "iopub.status.busy": "2021-07-04T09:15:08.743450Z",
     "iopub.status.idle": "2021-07-04T09:15:08.849599Z",
     "shell.execute_reply": "2021-07-04T09:15:08.848908Z",
     "shell.execute_reply.started": "2021-07-04T08:14:36.292868Z"
    },
    "papermill": {
     "duration": 0.15047,
     "end_time": "2021-07-04T09:15:08.849709",
     "exception": false,
     "start_time": "2021-07-04T09:15:08.699239",
     "status": "completed"
    },
    "tags": []
   },
   "outputs": [
    {
     "name": "stdout",
     "output_type": "stream",
     "text": [
      "False False False False False False False False False False False False False False False False False False False False False False False False False False False False False False False False False False False False False False False False False False False False False False False False False False False False False False False False False False False False False False False False False False False False False False False False False False False False False False False False False False False False False False False False False False False False False False False False False False False False False False False False False False False False False False False False False False False False False False False False False False False False False False False False False False False False False False False False False False False False False False False False False False False False False False False False False False False False False False False False False False False False False False False False False False False False False False False False False False False False False False False False False False False False False False False False False False False False False False False False False False False False False False False False False False False False False False False False False False False False False False False False False False False False False False False False False False False False False False False False False False False False False False False False False False False False False False False False False False False False False False False False False False False False False False False False False False False False False False False False False False False False False False False False False False False False False False False False False False False False False False False False False False False False False False False False False False False False False False False False False False False False False False False False False False False False False False False False False False False False False False False False False False False False False False False False False False False False False False False False False False False False False False False False False False False False False False False False False False False False False False False False False False False False False False False False False False False False False False False False False False False False False False False False False False False False False False False False False False False False False False False False False False False False False False False False False False False False False False False False False False False False False False False False False False False False False False False False False False False False False False False False False False False False False False False False False False False False False False False False False False False False False False False False False False False False False False False False False False False False False False False False False False False False False False False False False False False False False False False False False False False False False False False False False False False False False False False False False False False False False False False False False False False False False False False False False False False False False False False False False False False False False False False False False False False False False False False False False False False False False False False False False False False False False False False False False False False False False False False False False False False False False False False False False False False False False False False False False False False False False False False False False False False False False False False False False False False False False False False False False False False False False False False False False False False False False False False False False False False False False False False False False False False False False False False False False False False False False False False False False False False False False False False False False False False False False False False False False False False False False False False False False False False False False False False False False False False False False False False False False False False False False False False False False False False False False False False False False False False False False False False False False False False False False False False False False False False False False False False False False False False False False False False False False False False False False False False False False False False False False False False False False False False False False False False False False False False False False False False False False False False False False False False False False False False False False True True True True "
     ]
    }
   ],
   "source": [
    "for layer in clf.layers:\n",
    "    print(layer.trainable,end=\" \")"
   ]
  },
  {
   "cell_type": "markdown",
   "metadata": {},
   "source": [
    "Okay. The model is ready. Now coompiling it for model updation."
   ]
  },
  {
   "cell_type": "code",
   "execution_count": 18,
   "id": "honey-spouse",
   "metadata": {
    "execution": {
     "iopub.execute_input": "2021-07-04T09:15:08.944011Z",
     "iopub.status.busy": "2021-07-04T09:15:08.942619Z",
     "iopub.status.idle": "2021-07-04T09:15:08.952110Z",
     "shell.execute_reply": "2021-07-04T09:15:08.952522Z",
     "shell.execute_reply.started": "2021-07-04T08:14:39.842497Z"
    },
    "papermill": {
     "duration": 0.064713,
     "end_time": "2021-07-04T09:15:08.952655",
     "exception": false,
     "start_time": "2021-07-04T09:15:08.887942",
     "status": "completed"
    },
    "tags": []
   },
   "outputs": [],
   "source": [
    "# Compile the model\n",
    "clf.compile(\n",
    "optimizer = 'adam',\n",
    "loss = 'categorical_crossentropy',\n",
    "metrics = ['accuracy']\n",
    ")"
   ]
  },
  {
   "cell_type": "code",
   "execution_count": 19,
   "id": "third-motorcycle",
   "metadata": {
    "execution": {
     "iopub.execute_input": "2021-07-04T09:15:09.031486Z",
     "iopub.status.busy": "2021-07-04T09:15:09.030782Z",
     "iopub.status.idle": "2021-07-04T09:15:09.033236Z",
     "shell.execute_reply": "2021-07-04T09:15:09.033615Z",
     "shell.execute_reply.started": "2021-07-04T08:14:42.502834Z"
    },
    "papermill": {
     "duration": 0.043414,
     "end_time": "2021-07-04T09:15:09.033739",
     "exception": false,
     "start_time": "2021-07-04T09:15:08.990325",
     "status": "completed"
    },
    "tags": []
   },
   "outputs": [],
   "source": [
    "# setting callbacks to redue overfitting. \n",
    "\n",
    "\"\"\"\n",
    "Note that :\n",
    "\n",
    "In this tutorial we are not settiing the \n",
    "patience and thus the model is getting stopped \n",
    "at epoch 2. This is happen due to local minima problem.\n",
    "\n",
    "\"\"\"\n",
    "callbacks = keras.callbacks.EarlyStopping(\n",
    "    monitor='val_loss',\n",
    "    restore_best_weights = True,\n",
    ")"
   ]
  },
  {
   "cell_type": "markdown",
   "metadata": {},
   "source": [
    "Setting epochs and verbose as they are hyperparameters."
   ]
  },
  {
   "cell_type": "code",
   "execution_count": 20,
   "id": "israeli-playlist",
   "metadata": {
    "execution": {
     "iopub.execute_input": "2021-07-04T09:15:09.113080Z",
     "iopub.status.busy": "2021-07-04T09:15:09.112354Z",
     "iopub.status.idle": "2021-07-04T09:15:09.114987Z",
     "shell.execute_reply": "2021-07-04T09:15:09.114572Z",
     "shell.execute_reply.started": "2021-07-04T08:14:46.022628Z"
    },
    "papermill": {
     "duration": 0.04393,
     "end_time": "2021-07-04T09:15:09.115084",
     "exception": false,
     "start_time": "2021-07-04T09:15:09.071154",
     "status": "completed"
    },
    "tags": []
   },
   "outputs": [],
   "source": [
    "EPOCHS = 20\n",
    "VERBOSE = 1"
   ]
  },
  {
   "cell_type": "markdown",
   "metadata": {},
   "source": [
    "Now, we have reached the most important part of the whole tutorial. \n",
    "The model is getting trained over the data itself."
   ]
  },
  {
   "cell_type": "code",
   "execution_count": 21,
   "id": "intimate-stomach",
   "metadata": {
    "execution": {
     "iopub.execute_input": "2021-07-04T09:15:09.198155Z",
     "iopub.status.busy": "2021-07-04T09:15:09.197670Z",
     "iopub.status.idle": "2021-07-04T09:26:05.923994Z",
     "shell.execute_reply": "2021-07-04T09:26:05.923115Z",
     "shell.execute_reply.started": "2021-07-04T08:14:47.842714Z"
    },
    "papermill": {
     "duration": 656.771876,
     "end_time": "2021-07-04T09:26:05.924152",
     "exception": false,
     "start_time": "2021-07-04T09:15:09.152276",
     "status": "completed"
    },
    "tags": []
   },
   "outputs": [
    {
     "name": "stdout",
     "output_type": "stream",
     "text": [
      "Epoch 1/20\n",
      "364/364 [==============================] - 381s 992ms/step - loss: 42.7661 - accuracy: 0.5077 - val_loss: 1.1737 - val_accuracy: 0.6183\n",
      "Epoch 2/20\n",
      "364/364 [==============================] - 268s 736ms/step - loss: 1.2975 - accuracy: 0.6033 - val_loss: 1.1839 - val_accuracy: 0.6183\n"
     ]
    }
   ],
   "source": [
    "history = clf.fit(\n",
    "    train_data ,\n",
    "    epochs = EPOCHS ,\n",
    "    batch_size = BATCH_SIZE ,\n",
    "    validation_data = val_data,\n",
    "    callbacks = [callbacks],\n",
    "    verbose = VERBOSE\n",
    ")"
   ]
  },
  {
   "cell_type": "markdown",
   "metadata": {},
   "source": [
    "Now as said before the model is stuck in any local minima and early stopping preventing the model to go forwad , we will use this model to predcit over the test data."
   ]
  },
  {
   "cell_type": "code",
   "execution_count": 22,
   "id": "bound-freedom",
   "metadata": {
    "execution": {
     "iopub.execute_input": "2021-07-04T09:26:06.375211Z",
     "iopub.status.busy": "2021-07-04T09:26:06.374493Z",
     "iopub.status.idle": "2021-07-04T09:26:06.513205Z",
     "shell.execute_reply": "2021-07-04T09:26:06.512387Z",
     "shell.execute_reply.started": "2021-07-04T08:42:37.031038Z"
    },
    "papermill": {
     "duration": 0.364244,
     "end_time": "2021-07-04T09:26:06.513347",
     "exception": false,
     "start_time": "2021-07-04T09:26:06.149103",
     "status": "completed"
    },
    "tags": []
   },
   "outputs": [],
   "source": [
    "import cv2"
   ]
  },
  {
   "cell_type": "code",
   "execution_count": 23,
   "id": "divided-complaint",
   "metadata": {
    "execution": {
     "iopub.execute_input": "2021-07-04T09:26:07.228201Z",
     "iopub.status.busy": "2021-07-04T09:26:07.227226Z",
     "iopub.status.idle": "2021-07-04T09:26:07.230220Z",
     "shell.execute_reply": "2021-07-04T09:26:07.229663Z",
     "shell.execute_reply.started": "2021-07-04T08:44:07.532171Z"
    },
    "papermill": {
     "duration": 0.3188,
     "end_time": "2021-07-04T09:26:07.230338",
     "exception": false,
     "start_time": "2021-07-04T09:26:06.911538",
     "status": "completed"
    },
    "tags": []
   },
   "outputs": [],
   "source": [
    "import matplotlib.pyplot as plt"
   ]
  },
  {
   "cell_type": "markdown",
   "metadata": {},
   "source": [
    "We have only 1 test image to predict. Before predicting let us visualize it."
   ]
  },
  {
   "cell_type": "code",
   "execution_count": 24,
   "id": "experienced-brand",
   "metadata": {
    "execution": {
     "iopub.execute_input": "2021-07-04T09:26:07.694380Z",
     "iopub.status.busy": "2021-07-04T09:26:07.693608Z",
     "iopub.status.idle": "2021-07-04T09:26:07.892704Z",
     "shell.execute_reply": "2021-07-04T09:26:07.892249Z",
     "shell.execute_reply.started": "2021-07-04T08:44:09.74112Z"
    },
    "papermill": {
     "duration": 0.432135,
     "end_time": "2021-07-04T09:26:07.892825",
     "exception": false,
     "start_time": "2021-07-04T09:26:07.460690",
     "status": "completed"
    },
    "tags": []
   },
   "outputs": [
    {
     "data": {
      "image/png": "[encoded data removed]",
      "text/plain": [
       "<Figure size 432x288 with 1 Axes>"
      ]
     },
     "metadata": {
      "needs_background": "light"
     },
     "output_type": "display_data"
    }
   ],
   "source": [
    "test_image = cv2.imread('../input/cassava-leaf-disease-classification/test_images/2216849948.jpg')\n",
    "test_image = cv2.cvtColor(test_image , cv2.COLOR_BGR2RGB)\n",
    "test_image = cv2.resize(test_image , (HEIGHT , WIDTH))\n",
    "plt.imshow(test_image)\n",
    "plt.show()"
   ]
  },
  {
   "cell_type": "markdown",
   "metadata": {},
   "source": [
    "Now, predicting the test image."
   ]
  },
  {
   "cell_type": "code",
   "execution_count": 25,
   "id": "legendary-lightweight",
   "metadata": {
    "execution": {
     "iopub.execute_input": "2021-07-04T09:26:08.367449Z",
     "iopub.status.busy": "2021-07-04T09:26:08.366598Z",
     "iopub.status.idle": "2021-07-04T09:26:12.698734Z",
     "shell.execute_reply": "2021-07-04T09:26:12.698041Z",
     "shell.execute_reply.started": "2021-07-04T08:45:00.426533Z"
    },
    "papermill": {
     "duration": 4.570589,
     "end_time": "2021-07-04T09:26:12.698900",
     "exception": false,
     "start_time": "2021-07-04T09:26:08.128311",
     "status": "completed"
    },
    "tags": []
   },
   "outputs": [
    {
     "name": "stdout",
     "output_type": "stream",
     "text": [
      "[[0.02978932 0.12584874 0.18918727 0.5220921  0.13308258]]\n"
     ]
    }
   ],
   "source": [
    "prediction = clf.predict(test_image.reshape(1,HEIGHT,WIDTH,3))\n",
    "\n",
    "print(prediction)"
   ]
  },
  {
   "cell_type": "code",
   "execution_count": 26,
   "id": "elegant-chick",
   "metadata": {
    "execution": {
     "iopub.execute_input": "2021-07-04T09:26:13.194115Z",
     "iopub.status.busy": "2021-07-04T09:26:13.193602Z",
     "iopub.status.idle": "2021-07-04T09:26:13.197602Z",
     "shell.execute_reply": "2021-07-04T09:26:13.197194Z",
     "shell.execute_reply.started": "2021-07-04T08:47:58.561261Z"
    },
    "papermill": {
     "duration": 0.271301,
     "end_time": "2021-07-04T09:26:13.197708",
     "exception": false,
     "start_time": "2021-07-04T09:26:12.926407",
     "status": "completed"
    },
    "tags": []
   },
   "outputs": [],
   "source": [
    "index1 = np.argmax(prediction)"
   ]
  },
  {
   "cell_type": "code",
   "execution_count": 27,
   "id": "dependent-british",
   "metadata": {
    "execution": {
     "iopub.execute_input": "2021-07-04T09:26:13.655804Z",
     "iopub.status.busy": "2021-07-04T09:26:13.655043Z",
     "iopub.status.idle": "2021-07-04T09:26:13.658282Z",
     "shell.execute_reply": "2021-07-04T09:26:13.658926Z",
     "shell.execute_reply.started": "2021-07-04T08:48:00.436256Z"
    },
    "papermill": {
     "duration": 0.236,
     "end_time": "2021-07-04T09:26:13.659103",
     "exception": false,
     "start_time": "2021-07-04T09:26:13.423103",
     "status": "completed"
    },
    "tags": []
   },
   "outputs": [
    {
     "name": "stdout",
     "output_type": "stream",
     "text": [
      "Predicted class of the image : Cassava Mosaic Disease (CMD)\n"
     ]
    }
   ],
   "source": [
    "# Predicted class :\n",
    "print(f'Predicted class of the image : {classes[index1]}')"
   ]
  },
  {
   "cell_type": "markdown",
   "metadata": {},
   "source": [
    "Creating the submission dataframe and thus creating teh submission file."
   ]
  },
  {
   "cell_type": "code",
   "execution_count": 28,
   "id": "consecutive-fruit",
   "metadata": {
    "execution": {
     "iopub.execute_input": "2021-07-04T09:26:14.123258Z",
     "iopub.status.busy": "2021-07-04T09:26:14.122685Z",
     "iopub.status.idle": "2021-07-04T09:26:14.128458Z",
     "shell.execute_reply": "2021-07-04T09:26:14.127984Z",
     "shell.execute_reply.started": "2021-07-04T08:48:21.646124Z"
    },
    "papermill": {
     "duration": 0.241179,
     "end_time": "2021-07-04T09:26:14.128574",
     "exception": false,
     "start_time": "2021-07-04T09:26:13.887395",
     "status": "completed"
    },
    "tags": []
   },
   "outputs": [
    {
     "data": {
      "text/html": [
       "<div>\n",
       "<style scoped>\n",
       "    .dataframe tbody tr th:only-of-type {\n",
       "        vertical-align: middle;\n",
       "    }\n",
       "\n",
       "    .dataframe tbody tr th {\n",
       "        vertical-align: top;\n",
       "    }\n",
       "\n",
       "    .dataframe thead th {\n",
       "        text-align: right;\n",
       "    }\n",
       "</style>\n",
       "<table border=\"1\" class=\"dataframe\">\n",
       "  <thead>\n",
       "    <tr style=\"text-align: right;\">\n",
       "      <th></th>\n",
       "      <th>image_id</th>\n",
       "      <th>label</th>\n",
       "    </tr>\n",
       "  </thead>\n",
       "  <tbody>\n",
       "    <tr>\n",
       "      <th>0</th>\n",
       "      <td>2216849948.jpg</td>\n",
       "      <td>3</td>\n",
       "    </tr>\n",
       "  </tbody>\n",
       "</table>\n",
       "</div>"
      ],
      "text/plain": [
       "         image_id  label\n",
       "0  2216849948.jpg      3"
      ]
     },
     "execution_count": 28,
     "metadata": {},
     "output_type": "execute_result"
    }
   ],
   "source": [
    "submission_df = pd.DataFrame({\n",
    "    'image_id' : ['2216849948.jpg'],\n",
    "    'label' : [index1]\n",
    "})\n",
    "submission_df"
   ]
  },
  {
   "cell_type": "code",
   "execution_count": 29,
   "id": "about-weekly",
   "metadata": {
    "execution": {
     "iopub.execute_input": "2021-07-04T09:26:14.587503Z",
     "iopub.status.busy": "2021-07-04T09:26:14.586704Z",
     "iopub.status.idle": "2021-07-04T09:26:14.595655Z",
     "shell.execute_reply": "2021-07-04T09:26:14.595246Z",
     "shell.execute_reply.started": "2021-07-04T08:49:09.807141Z"
    },
    "papermill": {
     "duration": 0.239168,
     "end_time": "2021-07-04T09:26:14.595763",
     "exception": false,
     "start_time": "2021-07-04T09:26:14.356595",
     "status": "completed"
    },
    "tags": []
   },
   "outputs": [],
   "source": [
    "submission_df.to_csv('submission.csv',index=False)"
   ]
  },
  {
   "cell_type": "markdown",
   "metadata": {
    "papermill": {
     "duration": 0.226586,
     "end_time": "2021-07-04T09:26:15.048642",
     "exception": false,
     "start_time": "2021-07-04T09:26:14.822056",
     "status": "completed"
    },
    "tags": []
   },
   "source": [
    "## Thank You for visiting. Do visit my other works in [kaggle](https://kaggle.com/sagnik1511) and in [github](https://github.com/sagnik1511)\n",
    "\n",
    "\n",
    "# Do Upvote if found useful :)"
   ]
  }
 ],
 "metadata": {
  "kernelspec": {
   "display_name": "Python 3",
   "language": "python",
   "name": "python3"
  },
  "language_info": {
   "codemirror_mode": {
    "name": "ipython",
    "version": 3
   },
   "file_extension": ".py",
   "mimetype": "text/x-python",
   "name": "python",
   "nbconvert_exporter": "python",
   "pygments_lexer": "ipython3",
   "version": "3.8.5"
  },
  "papermill": {
   "default_parameters": {},
   "duration": 714.004736,
   "end_time": "2021-07-04T09:26:18.192769",
   "environment_variables": {},
   "exception": null,
   "input_path": "__notebook__.ipynb",
   "output_path": "__notebook__.ipynb",
   "parameters": {},
   "start_time": "2021-07-04T09:14:24.188033",
   "version": "2.3.3"
  }
 },
 "nbformat": 4,
 "nbformat_minor": 5
}
